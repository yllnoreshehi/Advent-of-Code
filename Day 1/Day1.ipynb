{
 "cells": [
  {
   "cell_type": "code",
   "execution_count": 83,
   "id": "656a94a8-60ef-4564-935c-17418ed7dcf2",
   "metadata": {},
   "outputs": [
    {
     "data": {
      "text/plain": [
       "''"
      ]
     },
     "execution_count": 83,
     "metadata": {},
     "output_type": "execute_result"
    }
   ],
   "source": [
    "import re\n",
    "\n",
    "# get calibration values as a list\n",
    "\n",
    "values = open(\"input.txt\")\n",
    "values = values.read()\n",
    "values_list = values.split(\"\\n\")\n",
    "values_list.pop()"
   ]
  },
  {
   "cell_type": "code",
   "execution_count": 84,
   "id": "358354ca-2bbf-4e07-a60f-c2c0b602e602",
   "metadata": {},
   "outputs": [],
   "source": [
    "dict_numbers = {\n",
    "    \"one\": \"o1e\",\n",
    "    \"two\": \"t2o\",\n",
    "    \"three\": \"t3e\",\n",
    "    \"four\": \"f4r\",\n",
    "    \"five\": \"f5e\",\n",
    "    \"six\": \"s6x\",\n",
    "    \"seven\": \"s7n\",\n",
    "    \"eight\": \"e8t\",\n",
    "    \"nine\": \"n9e\",\n",
    "}\n",
    "part_two = []\n",
    "for element in values_list:\n",
    "    for key,value in dict_numbers.items():\n",
    "        if key in element:\n",
    "            element = element.replace(key, value)\n",
    "    part_two.append(element)"
   ]
  },
  {
   "cell_type": "code",
   "execution_count": 85,
   "id": "675ce5bd-9d52-48b1-ba7f-69e67297f748",
   "metadata": {},
   "outputs": [],
   "source": [
    "# calibration calculation\n",
    "def calibration(list):\n",
    "    numbers_list = [re.sub(r'\\D', '', s) for s in list]\n",
    "    int_numbers = []\n",
    "    for val in numbers_list:\n",
    "        if len(val) > 1:\n",
    "            int_numbers.append(int(val[0]+val[-1]))\n",
    "        else: int_numbers.append(int(val[0]+val[0]))\n",
    "    total = sum(int_numbers)\n",
    "    return total"
   ]
  },
  {
   "cell_type": "code",
   "execution_count": 89,
   "id": "2e894351-73a2-4a76-a2cd-2eec8c4ba89a",
   "metadata": {},
   "outputs": [
    {
     "data": {
      "text/plain": [
       "54644"
      ]
     },
     "execution_count": 89,
     "metadata": {},
     "output_type": "execute_result"
    }
   ],
   "source": [
    "calibration(values_list)"
   ]
  },
  {
   "cell_type": "code",
   "execution_count": 90,
   "id": "e69fd48a-9525-4a1d-b2a0-0f7fe4ff3136",
   "metadata": {},
   "outputs": [
    {
     "data": {
      "text/plain": [
       "53348"
      ]
     },
     "execution_count": 90,
     "metadata": {},
     "output_type": "execute_result"
    }
   ],
   "source": [
    "calibration(part_two)"
   ]
  },
  {
   "cell_type": "code",
   "execution_count": null,
   "id": "b5e27e4d-197d-49e5-aeec-61225cb406c6",
   "metadata": {},
   "outputs": [],
   "source": []
  }
 ],
 "metadata": {
  "kernelspec": {
   "display_name": "Python 3 (ipykernel)",
   "language": "python",
   "name": "python3"
  },
  "language_info": {
   "codemirror_mode": {
    "name": "ipython",
    "version": 3
   },
   "file_extension": ".py",
   "mimetype": "text/x-python",
   "name": "python",
   "nbconvert_exporter": "python",
   "pygments_lexer": "ipython3",
   "version": "3.12.1"
  }
 },
 "nbformat": 4,
 "nbformat_minor": 5
}
