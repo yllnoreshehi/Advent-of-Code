{
 "cells": [
  {
   "cell_type": "code",
   "execution_count": 52,
   "id": "a0b019cb-628f-48f8-ba7e-4a6be67dcf44",
   "metadata": {},
   "outputs": [
    {
     "name": "stdout",
     "output_type": "stream",
     "text": [
      "1 2528\n",
      "2 67363\n"
     ]
    }
   ],
   "source": [
    "from collections import Counter\n",
    "from functools import reduce\n",
    "from operator import mul, or_\n",
    "data = open(\"input.txt\", \"r\").read()\n",
    "games = data.strip().split(\"\\n\")\n",
    "valid_games = 0\n",
    "fewest_sum = 0\n",
    "thresholds = Counter({\"red\":12, \"green\":13, \"blue\":14})\n",
    "for line in games:\n",
    "    game_id, draws = line.strip().split(\": \")\n",
    "    game_id = int(game_id.split(\" \")[1])\n",
    "    draws = [[c.split(\" \") for c in d.split(\", \")] for d in draws.split(\"; \")]\n",
    "    draws = [Counter({c[1]:int(c[0]) for c in d}) for d in draws]\n",
    "    valid_games += all(d <= thresholds for d in draws)*game_id\n",
    "    fewest_sum += reduce(mul, reduce(or_, draws).values())\n",
    "print(1, valid_games)\n",
    "print(2, fewest_sum)"
   ]
  },
  {
   "cell_type": "code",
   "execution_count": null,
   "id": "37496bc3-312d-4443-b43a-0656b40a8de6",
   "metadata": {},
   "outputs": [],
   "source": []
  }
 ],
 "metadata": {
  "kernelspec": {
   "display_name": "Python 3 (ipykernel)",
   "language": "python",
   "name": "python3"
  },
  "language_info": {
   "codemirror_mode": {
    "name": "ipython",
    "version": 3
   },
   "file_extension": ".py",
   "mimetype": "text/x-python",
   "name": "python",
   "nbconvert_exporter": "python",
   "pygments_lexer": "ipython3",
   "version": "3.12.1"
  }
 },
 "nbformat": 4,
 "nbformat_minor": 5
}
