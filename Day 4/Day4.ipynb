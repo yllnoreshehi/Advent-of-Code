{
 "cells": [
  {
   "cell_type": "code",
   "execution_count": 31,
   "id": "93be46a5-5fc7-4a52-93e1-0ff22aa309b9",
   "metadata": {},
   "outputs": [
    {
     "data": {
      "text/plain": [
       "21485"
      ]
     },
     "execution_count": 31,
     "metadata": {},
     "output_type": "execute_result"
    }
   ],
   "source": [
    "data = open(\"input.txt\", \"r\").read()\n",
    "cards = data.strip().split(\"\\n\")\n",
    "total = 0\n",
    "for c in cards:\n",
    "    numbers = c.split(\": \")[1].split(\" | \")\n",
    "    winning_numbers = list(map(int, numbers[0].split()))\n",
    "    my_numbers = list(map(int, numbers[1].split()))\n",
    "    winnings = len(set(winning_numbers) & set(my_numbers))\n",
    "    if winnings == 0:\n",
    "        continue\n",
    "    if winnings == 1:\n",
    "        total += 1\n",
    "    if winnings > 1:\n",
    "        total += 2**(winnings-1)\n",
    "        \n",
    "total"
   ]
  },
  {
   "cell_type": "code",
   "execution_count": 7,
   "id": "afb7e2f6-c48d-4089-af77-6585996d5542",
   "metadata": {},
   "outputs": [],
   "source": []
  },
  {
   "cell_type": "code",
   "execution_count": null,
   "id": "db51a205-a1ed-4b64-aede-102890df695b",
   "metadata": {},
   "outputs": [],
   "source": []
  }
 ],
 "metadata": {
  "kernelspec": {
   "display_name": "Python 3 (ipykernel)",
   "language": "python",
   "name": "python3"
  },
  "language_info": {
   "codemirror_mode": {
    "name": "ipython",
    "version": 3
   },
   "file_extension": ".py",
   "mimetype": "text/x-python",
   "name": "python",
   "nbconvert_exporter": "python",
   "pygments_lexer": "ipython3",
   "version": "3.12.1"
  }
 },
 "nbformat": 4,
 "nbformat_minor": 5
}
